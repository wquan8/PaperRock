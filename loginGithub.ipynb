{
 "cells": [
  {
   "cell_type": "code",
   "execution_count": 18,
   "metadata": {},
   "outputs": [
    {
     "name": "stdout",
     "output_type": "stream",
     "text": [
      "Q2Ped3YVED3Mjb5t/i730CPfvPIqlTGsGd/Uo1yN50NyJQH2sJVpd3pxrkG873J6KpSBKCTBHrvK15P5d17gAA==\n",
      "<Response [200]>\n",
      "b'# PaperRock\\nPaper Rock Scissor for transfer learning\\n'\n"
     ]
    }
   ],
   "source": [
    "import requests\n",
    "from bs4 import BeautifulSoup\n",
    "\n",
    "headers = {\n",
    "'user-agent': 'Mozilla/5.0 (Macintosh; Intel Mac OS X 10_13_6) AppleWebKit/537.36 (KHTML, like Gecko) Chrome/73.0.3683.86 Safari/537.36'\n",
    "}\n",
    "\n",
    "login_data = {\n",
    "    'commit': 'Sign in',\n",
    "    'utf8': '%E2%9C%93',\n",
    "    'login': 'wquan8',\n",
    "    'password': 'xxxxx'\n",
    "}\n",
    "\n",
    "with requests.Session() as s:\n",
    "    url = \"https://github.com/session\"\n",
    "    r = s.get(url, headers=headers)\n",
    "    soup = BeautifulSoup(r.content, 'html.parser')\n",
    "    login_data['authenticity_token'] = soup.find('input', attrs={'name': 'authenticity_token'})['value']\n",
    "    \n",
    "    print(login_data['authenticity_token'])\n",
    "    \n",
    "    r = s.post(url, data=login_data, headers=headers)\n",
    "    \n",
    "    print(r)\n",
    "    \n",
    "    r2 = requests.get('https://raw.githubusercontent.com/wquan8/PaperRock/master/README.md')\n",
    "    \n",
    "    print(r2.content)"
   ]
  },
  {
   "cell_type": "code",
   "execution_count": null,
   "metadata": {},
   "outputs": [],
   "source": []
  }
 ],
 "metadata": {
  "kernelspec": {
   "display_name": "quantlib",
   "language": "python",
   "name": "quantlib"
  },
  "language_info": {
   "codemirror_mode": {
    "name": "ipython",
    "version": 3
   },
   "file_extension": ".py",
   "mimetype": "text/x-python",
   "name": "python",
   "nbconvert_exporter": "python",
   "pygments_lexer": "ipython3",
   "version": "3.7.9"
  }
 },
 "nbformat": 4,
 "nbformat_minor": 4
}
